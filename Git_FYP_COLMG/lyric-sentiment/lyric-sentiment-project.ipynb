{
  "nbformat": 4,
  "nbformat_minor": 0,
  "metadata": {
    "colab": {
      "name": "cleaned-project.ipynb",
      "provenance": [],
      "collapsed_sections": [],
      "machine_shape": "hm"
    },
    "kernelspec": {
      "name": "python3",
      "display_name": "Python 3"
    },
    "accelerator": "GPU"
  },
  "cells": [
    {
      "cell_type": "markdown",
      "metadata": {
        "id": "vC4oCGihZZZM",
        "colab_type": "text"
      },
      "source": [
        "**1. Install Libraries**\n",
        "\n"
      ]
    },
    {
      "cell_type": "code",
      "metadata": {
        "id": "emM8GuQ6cJac",
        "colab_type": "code",
        "colab": {}
      },
      "source": [
        "#install modules\n",
        "!pip install lyricsgenius\n",
        "!pip install textblob\n",
        "!python -m textblob.download_corpora"
      ],
      "execution_count": 0,
      "outputs": []
    },
    {
      "cell_type": "markdown",
      "metadata": {
        "id": "LI2_HAAOZtpU",
        "colab_type": "text"
      },
      "source": [
        "**2. Import Packages**"
      ]
    },
    {
      "cell_type": "code",
      "metadata": {
        "id": "NjUzrhjiFePy",
        "colab_type": "code",
        "colab": {}
      },
      "source": [
        "#import packages\n",
        "from gensim.summarization import keywords\n",
        "import spacy\n",
        "import nltk\n",
        "from nltk.corpus import stopwords\n",
        "nltk.download('stopwords')\n",
        "stopwords = set(stopwords.words('english'))\n",
        "from spacy.lang.en import English\n",
        "nlp = English()\n",
        "nlp.max_length = 10000000\n",
        "import lyricsgenius\n",
        "import pandas as pd\n",
        "from google.colab import files"
      ],
      "execution_count": 0,
      "outputs": []
    },
    {
      "cell_type": "markdown",
      "metadata": {
        "id": "CBoqsrUgbdsM",
        "colab_type": "text"
      },
      "source": [
        "**3. Define Genius API Authentication**"
      ]
    },
    {
      "cell_type": "code",
      "metadata": {
        "id": "KvJAJ-KKcO71",
        "colab_type": "code",
        "colab": {}
      },
      "source": [
        "#define Genius API authentication\n",
        "genius = lyricsgenius.Genius('your-api-key')"
      ],
      "execution_count": 0,
      "outputs": []
    },
    {
      "cell_type": "markdown",
      "metadata": {
        "id": "U4XZi8LXd7q0",
        "colab_type": "text"
      },
      "source": [
        "**4. Import Billboard Hot 100 Dataset from Data World**\n"
      ]
    },
    {
      "cell_type": "code",
      "metadata": {
        "id": "3tM-BLi5cSOo",
        "colab_type": "code",
        "colab": {}
      },
      "source": [
        "#import billboard hot100 dataset\n",
        "hot100_df = pd.read_csv('https://query.data.world/s/qf6et5c7dh23kglnvjcoztlmom62it')\n",
        "hot100_df.drop_duplicates(subset='SongID', inplace = True) #remove duplicate occurrences of songs\n",
        "hot100_df.reset_index()"
      ],
      "execution_count": 0,
      "outputs": []
    },
    {
      "cell_type": "markdown",
      "metadata": {
        "id": "n-KIa299eSsq",
        "colab_type": "text"
      },
      "source": [
        "**5. Define Functions**"
      ]
    },
    {
      "cell_type": "code",
      "metadata": {
        "id": "YsKhuc-ScTDy",
        "colab_type": "code",
        "colab": {}
      },
      "source": [
        "def get_lyrics(title, artist):\n",
        "\t''' \n",
        "\tFunction to return lyrics of each song using Geniu API\n",
        "\t'''\n",
        "  try:\n",
        "    return genius.search_song(title, artist).lyrics\n",
        "  except:\n",
        "    return 'not found'"
      ],
      "execution_count": 0,
      "outputs": []
    },
    {
      "cell_type": "code",
      "metadata": {
        "id": "6e52BoUGcg-J",
        "colab_type": "code",
        "colab": {}
      },
      "source": [
        "def get_lyric_sentiment(lyrics): \n",
        "\t''' \n",
        "\tFunction to return sentiment score of each song\n",
        "\t'''\n",
        "\tanalysis = TextBlob(lyrics) \n",
        "\treturn analysis.sentiment.polarity"
      ],
      "execution_count": 0,
      "outputs": []
    },
    {
      "cell_type": "code",
      "metadata": {
        "id": "-uNMkGovFTwB",
        "colab_type": "code",
        "colab": {}
      },
      "source": [
        "# Function to preprocess text\n",
        "def preprocess(text):\n",
        "    # Create Doc object\n",
        "    doc = nlp(text, disable=['ner', 'parser'])\n",
        "    # Generate lemmas\n",
        "    lemmas = [token.lemma_ for token in doc]\n",
        "    # Remove stopwords and non-alphabetic characters\n",
        "    a_lemmas = [lemma for lemma in lemmas \n",
        "            if lemma.isalpha() and lemma not in stopwords]\n",
        "    \n",
        "    return ' '.join(a_lemmas)"
      ],
      "execution_count": 0,
      "outputs": []
    },
    {
      "cell_type": "code",
      "metadata": {
        "id": "ndTW-QfUFWqQ",
        "colab_type": "code",
        "colab": {}
      },
      "source": [
        "\"\"\"Extract Keywords from text\"\"\"\n",
        "def return_keywords(texts):\n",
        "    xkeywords = []\n",
        "    values = keywords(text=preprocess(texts),split='\\n',scores=True)\n",
        "    for x in values[:10]:\n",
        "        xkeywords.append(x[0])\n",
        "    try:\n",
        "        return xkeywords \n",
        "    except:\n",
        "        return \"no content\""
      ],
      "execution_count": 0,
      "outputs": []
    },
    {
      "cell_type": "markdown",
      "metadata": {
        "id": "-U7f1mOdfryZ",
        "colab_type": "text"
      },
      "source": [
        "**4. Calculate Lyric Sentiment**"
      ]
    },
    {
      "cell_type": "code",
      "metadata": {
        "id": "SPl8jV8KcUru",
        "colab_type": "code",
        "colab": {}
      },
      "source": [
        "#Use get_lyrics funcion to get lyrics for every song in dataset\n",
        "lyrics = hot100_df.apply(lambda row: get_lyrics(row['Song'], row['Performer']), axis =1)\n",
        "hot100_df['Lyrics'] = lyrics\n",
        "hot100_df = hot100_df.drop(hot100_df[hot100_df['Lyrics'] == 'not found'].index) #drop rows where lyrics are not found on Genius"
      ],
      "execution_count": 0,
      "outputs": []
    },
    {
      "cell_type": "code",
      "metadata": {
        "id": "tE6Nf5QMck3L",
        "colab_type": "code",
        "colab": {}
      },
      "source": [
        "#Use get_lyric_sentiment to get sentiment score for all the song lyrics\n",
        "sentiment = hot100_df.apply(lambda row: get_lyric_sentiment(row['Lyrics']), axis =1)\n",
        "hot100_df['Sentiment'] = sentiment"
      ],
      "execution_count": 0,
      "outputs": []
    },
    {
      "cell_type": "code",
      "metadata": {
        "id": "1dQGrwZbpJ2h",
        "colab_type": "code",
        "colab": {}
      },
      "source": [
        "#Set the index of the dataframe to the WeekID. This sets us up to resample dataframe based on time\n",
        "hot100_df['WeekID'] = pd.to_datetime(hot100_df['WeekID'],infer_datetime_format=True)\n",
        "hot100_df = hot100_df.sort_values(by='WeekID')\n",
        "hot100_df = hot100_df.reset_index(drop=True)\n",
        "hot100_df = hot100_df.set_index('WeekID')"
      ],
      "execution_count": 0,
      "outputs": []
    },
    {
      "cell_type": "code",
      "metadata": {
        "id": "3C6Rdc5dvkTx",
        "colab_type": "code",
        "colab": {}
      },
      "source": [
        "#Resample dataframe sentiment column by year. This arranges the mean lyric sentiment for every year\n",
        "hot100_resample = hot100_df['Sentiment'].resample('Y').mean()"
      ],
      "execution_count": 0,
      "outputs": []
    },
    {
      "cell_type": "markdown",
      "metadata": {
        "id": "Uhq0GHNpf0T_",
        "colab_type": "text"
      },
      "source": [
        "**5. Plot Lyric Sentiment Over Time**"
      ]
    },
    {
      "cell_type": "code",
      "metadata": {
        "id": "S-AflueCuCmf",
        "colab_type": "code",
        "outputId": "b359c2c0-d395-47e1-acc2-f369e6e18be2",
        "colab": {
          "base_uri": "https://localhost:8080/",
          "height": 297
        }
      },
      "source": [
        "#Plot a line graph of lyric sentiment over time\n",
        "hot100_resample.plot(label='Sentiment', legend=True)"
      ],
      "execution_count": 0,
      "outputs": [
        {
          "output_type": "execute_result",
          "data": {
            "text/plain": [
              "<matplotlib.axes._subplots.AxesSubplot at 0x7f83392334e0>"
            ]
          },
          "metadata": {
            "tags": []
          },
          "execution_count": 12
        },
        {
          "output_type": "display_data",
          "data": {
            "image/png": "[encoded data removed]",
            "text/plain": [
              "<Figure size 432x288 with 1 Axes>"
            ]
          },
          "metadata": {
            "tags": []
          }
        }
      ]
    },
    {
      "cell_type": "code",
      "metadata": {
        "id": "s9jKf91x56xa",
        "colab_type": "code",
        "outputId": "91300d84-ec8f-4500-ad9a-da55f28ac84e",
        "colab": {
          "base_uri": "https://localhost:8080/",
          "height": 35
        }
      },
      "source": [
        "#Calculate the mean percentage change of lyric sentiment\n",
        "hot100_resample.pct_change().mean()"
      ],
      "execution_count": 0,
      "outputs": [
        {
          "output_type": "execute_result",
          "data": {
            "text/plain": [
              "-0.012904971574345343"
            ]
          },
          "metadata": {
            "tags": []
          },
          "execution_count": 30
        }
      ]
    },
    {
      "cell_type": "markdown",
      "metadata": {
        "id": "-98z8IFof8Nz",
        "colab_type": "text"
      },
      "source": [
        "**6. Discover Top Keywords in Lyrics Over Time**"
      ]
    },
    {
      "cell_type": "code",
      "metadata": {
        "id": "zqRLuCoHC1aa",
        "colab_type": "code",
        "colab": {}
      },
      "source": [
        "#Resample daraframe lyrics by year. Get all the lyrics for every song for each year\n",
        "lyrics_resample = hot100_df['Lyrics'].resample('Y').sum()"
      ],
      "execution_count": 0,
      "outputs": []
    },
    {
      "cell_type": "code",
      "metadata": {
        "id": "2sJ2mFIW1cOt",
        "colab_type": "code",
        "colab": {}
      },
      "source": [
        "#Use return_keywords function on lyrics_resample to get the top 20 keywords for each year\n",
        "lyric_keywords = [return_keywords(x[1]) for x in lyrics_resample.iteritems()]"
      ],
      "execution_count": 0,
      "outputs": []
    },
    {
      "cell_type": "code",
      "metadata": {
        "id": "EUhWy9cjZQbP",
        "colab_type": "code",
        "colab": {}
      },
      "source": [
        "#Put lyric_keywords into a DataFrame and include lyrics_resample and hot100_resample\n",
        "keywords_df = pd.DataFrame(lyrics_keywords, columns = ['Keywords'])\n",
        "keywords_df = keywords_df.set_index(lyrics_resample.index)\n",
        "keywords_df['Lyrics'] = lyrics_resample\n",
        "keywords_df['Sentiment'] = hot100_resample"
      ],
      "execution_count": 0,
      "outputs": []
    }
  ]
}